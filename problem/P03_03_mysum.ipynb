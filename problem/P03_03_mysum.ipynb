{
 "cells": [
  {
   "cell_type": "markdown",
   "metadata": {},
   "source": [
    "# 문자열 덧셈 하기 - 문자열 조작 및 반복/조건문 활용\n",
    "\n",
    "**문제 풀기 전에 어떻게 풀어야할지 생각부터 해봅시다!**\n",
    "\n",
    "> 사람은 덧셈을 할때 뒤에서부터 계산하고, 받아올림을 합니다.\n",
    "> \n",
    "> 문자열 2개를 받아 덧셈을 하여 숫자를 반환하는 함수 `my_sum(num1, num2)`을 만들어보세요.\n",
    "\n",
    "\n",
    "\n",
    "**절대로 `return int(num1)+int(num2)` 이렇게 풀지 맙시다!!**\n",
    "\n",
    "**재귀함수도 사용할 필요 없습니다.**"
   ]
  },
  {
   "cell_type": "code",
   "execution_count": 13,
   "metadata": {},
   "outputs": [],
   "source": [
    "def my_sum(num1, num2):\n",
    "    result = ''\n",
    "    up_num = 0\n",
    "    if len(num1) > len(num2):\n",
    "        for nums2 in range(1,len(num2)+1):\n",
    "            if int(num1[-nums2]) + int(num2[-nums2]) + up_num >= 10:\n",
    "                result = str(int(num1[-nums2]) + int(num2[-nums2]) + up_num)[-1] + result\n",
    "                up_num = int(str(int(num1[-nums2]) + int(num2[-nums2]) + up_num)[-2])\n",
    "            else:\n",
    "                result = str(int(num1[-nums2]) + int(num2[-num2]) + up_num) + result\n",
    "                up_num = 0\n",
    "        result = str(up_num + int(num1[0:-nums2])) + result\n",
    "    elif len(num1) < len(num2):\n",
    "        for nums1 in range(1,len(num1)+1):\n",
    "            if int(num1[-nums1]) + int(num2[-nums1]) + up_num >= 10:\n",
    "                result = str(int(num1[-nums1]) + int(num2[-nums1]) + up_num)[-1] + result\n",
    "                up_num = int(str(int(num1[-nums1]) + int(num2[-nums1]) + up_num)[-2])\n",
    "            else:\n",
    "                result = str(int(num1[-nums2]) + int(num2[-nums2]) + up_num) + result\n",
    "                up_num = 0\n",
    "        result = str(up_num + int(num2[0:-nums1])) + result\n",
    "    else:\n",
    "        for nums in range(1,len(num1)+1):\n",
    "            if int(num1[-nums]) + int(num2[-nums]) + up_num >= 10:\n",
    "                result = str(int(num1[-nums]) + int(num2[-nums]) + up_num)[-1] + result\n",
    "                up_num = int(str(int(num1[-nums]) + int(num2[-nums]) + up_num)[-2])\n",
    "            else:\n",
    "                result = str(int(num1[-nums]) + int(num2[-nums]) + up_num) + result\n",
    "                up_num = 0\n",
    "        result = str(int(result[0:1]) + up_num) + result[1:]\n",
    "    return result"
   ]
  },
  {
   "cell_type": "code",
   "execution_count": 12,
   "metadata": {},
   "outputs": [],
   "source": [
    "def my_sum(num1, num2):\n",
    "    if len(num2) > len(num1):\n",
    "        num1, num2 = num2, num1\n",
    "    diff = len(num1) - len(num2)\n",
    "    num2 = ('0' * diff) + num2\n",
    "    add = 0\n",
    "    result = [0] * len(num1)\n",
    "    for i in range(len(num1)-1, -1, -1):\n",
    "        tmp = int(num1[i]) + int(num2[i]) + add\n",
    "        if tmp > 9:\n",
    "            tmp -= 1\n",
    "            add = 1\n",
    "        else:\n",
    "            add = 0\n",
    "        result[i] = tmp"
   ]
  },
  {
   "cell_type": "code",
   "execution_count": 14,
   "metadata": {
    "scrolled": true
   },
   "outputs": [
    {
     "name": "stdout",
     "output_type": "stream",
     "text": [
      "8\n",
      "200\n",
      "10000\n"
     ]
    }
   ],
   "source": [
    "print(my_sum('3', '5'))\n",
    "print(my_sum('123', '77'))\n",
    "print(my_sum('1', '9999'))"
   ]
  },
  {
   "cell_type": "code",
   "execution_count": 4,
   "metadata": {},
   "outputs": [],
   "source": [
    "# input()\n",
    "# 문자열 입력 => 숫자를 뽑아 더하는 함수\n",
    "# 1. '10'은 10으로 계산, 즉 '1'다음에 오는 숫자가 '0'이라면 10으로 취급\n",
    "# 2. '.'을 만나면 앞의 숫자를 소수로 만들어라\n",
    "# 3. 같은 수가 반복되면 어느 숫자가 몇번 반복했는지 출력\n",
    "# 4. 가장 많이 반복된 수의 합 출력\n",
    "\n",
    "# 출력결과\n",
    "# => 모든 숫자의 합\n",
    "# => 몇번 반복되었는지\n",
    "# => 가장 많이 반복된 수의 합"
   ]
  }
 ],
 "metadata": {
  "kernelspec": {
   "display_name": "Python 3",
   "language": "python",
   "name": "python3"
  },
  "language_info": {
   "codemirror_mode": {
    "name": "ipython",
    "version": 3
   },
   "file_extension": ".py",
   "mimetype": "text/x-python",
   "name": "python",
   "nbconvert_exporter": "python",
   "pygments_lexer": "ipython3",
   "version": "3.6.2"
  },
  "latex_envs": {
   "LaTeX_envs_menu_present": true,
   "autoclose": false,
   "autocomplete": true,
   "bibliofile": "biblio.bib",
   "cite_by": "apalike",
   "current_citInitial": 1,
   "eqLabelWithNumbers": true,
   "eqNumInitial": 1,
   "hotkeys": {
    "equation": "Ctrl-E",
    "itemize": "Ctrl-I"
   },
   "labels_anchors": false,
   "latex_user_defs": false,
   "report_style_numbering": false,
   "user_envs_cfg": false
  },
  "toc": {
   "base_numbering": 1,
   "nav_menu": {},
   "number_sections": true,
   "sideBar": true,
   "skip_h1_title": false,
   "title_cell": "Table of Contents",
   "title_sidebar": "Contents",
   "toc_cell": false,
   "toc_position": {},
   "toc_section_display": true,
   "toc_window_display": false
  }
 },
 "nbformat": 4,
 "nbformat_minor": 2
}
