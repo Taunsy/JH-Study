{
 "cells": [
  {
   "cell_type": "markdown",
   "metadata": {},
   "source": [
    "- 두 개의 정수 n과 m이 주어집니다. 반복문을 사용하지 않고 별(*) 문자를 이용해 가로의 길이가 n, 세로의 길이가 m인 직사각형 형태를 출력해보세요."
   ]
  },
  {
   "cell_type": "code",
   "execution_count": 18,
   "metadata": {},
   "outputs": [
    {
     "name": "stdout",
     "output_type": "stream",
     "text": [
      "*****\n",
      "*****\n",
      "*****\n",
      "*****\n",
      "*****\n",
      "*****\n",
      "*****\n",
      "*****\n",
      "*****\n"
     ]
    }
   ],
   "source": [
    "# 문제\n",
    "n = 5\n",
    "m = 9\n",
    "print('*****'+'\\n*****'+'\\n*****'+'\\n*****'+'\\n*****'+'\\n*****'+'\\n*****'+'\\n*****'+'\\n*****')"
   ]
  },
  {
   "cell_type": "code",
   "execution_count": 13,
   "metadata": {},
   "outputs": [
    {
     "name": "stdout",
     "output_type": "stream",
     "text": [
      "*****\n",
      "*****\n",
      "*****\n",
      "*****\n",
      "*****\n",
      "*****\n",
      "*****\n",
      "*****\n",
      "*****\n"
     ]
    }
   ],
   "source": [
    "# 정답\n",
    "print('*****')\n",
    "print('*****')\n",
    "print('*****')\n",
    "print('*****')\n",
    "print('*****')\n",
    "print('*****')\n",
    "print('*****')\n",
    "print('*****')\n",
    "print('*****')"
   ]
  },
  {
   "cell_type": "code",
   "execution_count": 45,
   "metadata": {},
   "outputs": [
    {
     "name": "stdout",
     "output_type": "stream",
     "text": [
      "*****\n",
      "*****\n",
      "*****\n",
      "*****\n",
      "*****\n",
      "*****\n",
      "*****\n",
      "*****\n",
      "*****\n",
      "\n"
     ]
    }
   ],
   "source": [
    "# 혹은\n",
    "star = '*'\n",
    "stars = star*n\n",
    "print((stars+'\\n')*m)"
   ]
  },
  {
   "cell_type": "markdown",
   "metadata": {},
   "source": [
    "- 다음 딕셔너리에서 평균 점수를 출력하시오."
   ]
  },
  {
   "cell_type": "code",
   "execution_count": 46,
   "metadata": {},
   "outputs": [],
   "source": [
    "# 문제\n",
    "student = {'python': 80, 'algorithm': 99, 'django': 89, 'flask': 83}"
   ]
  },
  {
   "cell_type": "code",
   "execution_count": 17,
   "metadata": {},
   "outputs": [
    {
     "name": "stdout",
     "output_type": "stream",
     "text": [
      "87.75\n"
     ]
    }
   ],
   "source": [
    "# 정답\n",
    "total = student['python']+student['algorithm']+student['django']+student['flask']\n",
    "print(total/4)"
   ]
  },
  {
   "cell_type": "code",
   "execution_count": 50,
   "metadata": {},
   "outputs": [
    {
     "name": "stdout",
     "output_type": "stream",
     "text": [
      "python\n",
      "algorithm\n",
      "django\n",
      "flask\n",
      "80\n",
      "99\n",
      "89\n",
      "83\n"
     ]
    }
   ],
   "source": [
    "# for문을 통해 key와 value값들 뽑기\n",
    "for subject in student.keys():\n",
    "    print(subject)\n",
    "for subject in student.values():\n",
    "    print(subject)"
   ]
  },
  {
   "cell_type": "code",
   "execution_count": 69,
   "metadata": {},
   "outputs": [
    {
     "name": "stdout",
     "output_type": "stream",
     "text": [
      "87.75\n"
     ]
    }
   ],
   "source": [
    "result = 0\n",
    "for average in student.values():\n",
    "    result = result+average\n",
    "print(result/len(student))"
   ]
  },
  {
   "cell_type": "code",
   "execution_count": 66,
   "metadata": {},
   "outputs": [
    {
     "name": "stdout",
     "output_type": "stream",
     "text": [
      " Hi Tea Bye\n"
     ]
    }
   ],
   "source": [
    "# 비어있는 저장공간을 만들어줘서(형에 맞게) 활용할 수 있음\n",
    "LL = ['Hi','Tea','Bye']\n",
    "result = ''\n",
    "for KK in LL:\n",
    "    result = result + ' ' + KK\n",
    "print(result)"
   ]
  },
  {
   "cell_type": "markdown",
   "metadata": {},
   "source": [
    "- 다음은 학생들의 혈액형(A, B, AB, O)에 대한 데이터이다. for문을 이용하여 각 혈액형 별 학생수의 합계를 구하시오."
   ]
  },
  {
   "cell_type": "code",
   "execution_count": 80,
   "metadata": {},
   "outputs": [],
   "source": [
    "# 문제\n",
    "blood_types = ['A', 'B', 'A', 'O', 'AB', 'AB', 'O', 'A', 'B', 'O', 'B', 'AB']"
   ]
  },
  {
   "cell_type": "code",
   "execution_count": 86,
   "metadata": {},
   "outputs": [
    {
     "name": "stdout",
     "output_type": "stream",
     "text": [
      "3\n",
      "3\n",
      "3\n",
      "3\n"
     ]
    }
   ],
   "source": [
    "# 정답\n",
    "result_A = 0\n",
    "result_B = 0\n",
    "result_O = 0\n",
    "result_AB = 0\n",
    "for blood_type in blood_types:\n",
    "    if blood_type == 'A':\n",
    "        result_A = result_A + 1\n",
    "    elif blood_type == 'B':\n",
    "        result_B = result_B + 1\n",
    "    elif blood_type == 'AB':\n",
    "        result_AB = result_AB + 1\n",
    "    else:\n",
    "        result_O = result_O + 1\n",
    "        \n",
    "print(result_A)\n",
    "print(result_B)\n",
    "print(result_AB)\n",
    "print(result_O)"
   ]
  },
  {
   "cell_type": "code",
   "execution_count": 94,
   "metadata": {},
   "outputs": [
    {
     "name": "stdout",
     "output_type": "stream",
     "text": [
      "{'A': 3, 'B': 3, 'O': 3, 'AB': 3}\n"
     ]
    }
   ],
   "source": [
    "# 이건 어때\n",
    "result = {}\n",
    "for blood in blood_types:\n",
    "    if blood not in result:\n",
    "        result[blood] = 1\n",
    "    else :\n",
    "        result[blood] = result[blood] + 1\n",
    "print(result)"
   ]
  },
  {
   "cell_type": "code",
   "execution_count": 72,
   "metadata": {},
   "outputs": [
    {
     "name": "stdout",
     "output_type": "stream",
     "text": [
      "python 80\n",
      "algorithm 99\n",
      "django 89\n",
      "flask 83\n"
     ]
    }
   ],
   "source": [
    "# for문을 통해 dict에서 key 와 value를 한번에 뽑는 방법\n",
    "for key,value in student.items():\n",
    "    print(key,value)"
   ]
  },
  {
   "cell_type": "code",
   "execution_count": 74,
   "metadata": {},
   "outputs": [
    {
     "name": "stdout",
     "output_type": "stream",
     "text": [
      "13\n",
      "24\n"
     ]
    }
   ],
   "source": [
    "result1 = 0\n",
    "result2 = 0\n",
    "nums = {1:3,2:5,4:7,6:9}\n",
    "for key,value in nums.items():\n",
    "    result1 = result1 + key\n",
    "    result2 = result2 + value\n",
    "print(result1)\n",
    "print(result2)"
   ]
  }
 ],
 "metadata": {
  "kernelspec": {
   "display_name": "Python 3",
   "language": "python",
   "name": "python3"
  },
  "language_info": {
   "codemirror_mode": {
    "name": "ipython",
    "version": 3
   },
   "file_extension": ".py",
   "mimetype": "text/x-python",
   "name": "python",
   "nbconvert_exporter": "python",
   "pygments_lexer": "ipython3",
   "version": "3.6.2"
  },
  "toc": {
   "base_numbering": 1,
   "nav_menu": {},
   "number_sections": true,
   "sideBar": true,
   "skip_h1_title": false,
   "title_cell": "Table of Contents",
   "title_sidebar": "Contents",
   "toc_cell": false,
   "toc_position": {},
   "toc_section_display": true,
   "toc_window_display": false
  }
 },
 "nbformat": 4,
 "nbformat_minor": 2
}
