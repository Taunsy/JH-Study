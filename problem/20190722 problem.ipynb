{
 "cells": [
  {
   "cell_type": "code",
   "execution_count": null,
   "metadata": {},
   "outputs": [],
   "source": [
    "\"\"\"\n",
    "무단외박 재학생 출력하기 (27기 ~ 29기)\n",
    "1. DB화 시키기\n",
    "2. 출력(기수/파트(영어로)/이름)\n",
    "3. 새내기 이름에는 ★ 붙이기\n",
    "4. 파트 중 드럼은 자음은 대문자, 모음은 소문자\n",
    "5. 베이스 파트는 기수를 안보이게 하기\n",
    "6. 출력결과\n",
    "      결과\n",
    "----------------\n",
    "기수, 파트, 이름\n",
    "  ~,    ~,    ~\n",
    "  ~,    ~,    ~\n",
    "  ~,    ~,    ~\n",
    "***for문과 if문 사용하기***\n",
    "\"\"\""
   ]
  },
  {
   "cell_type": "code",
   "execution_count": 2,
   "metadata": {},
   "outputs": [
    {
     "name": "stdout",
     "output_type": "stream",
     "text": [
      "          결과          \n",
      "ㅡㅡㅡㅡㅡㅡㅡㅡㅡㅡㅡㅡ\n",
      " 기수     파트      이름\n",
      "ㅡㅡㅡㅡㅡㅡㅡㅡㅡㅡㅡㅡ\n",
      "27기,   VOCAL  ,  성은호 \n",
      "27기,   DRuM   ,  이누리 \n",
      "27기,  GUITAR  ,  마강락 \n",
      "    ,   BASS   ,  김진광 \n",
      "27기,  GUITAR  ,  윤승민 \n",
      "27기,  GUITAR  ,  임용성 \n",
      "28기,  GUITAR  ,  하상진 \n",
      "28기,   DRuM   ,  안응규 \n",
      "28기,   DRuM   ,  김현서 \n",
      "    ,   BASS   ,  나주원 \n",
      "28기,   VOCAL  ,  강승엽 \n",
      "    ,   BASS   ,  이동형 \n",
      "28기,   VOCAL  ,  김도은 \n",
      "29기,   DRuM   , 오승환★ \n",
      "29기, KEYBOARD , 이래호★ \n",
      "29기, KEYBOARD , 김다정★ \n",
      "29기,  GUITAR  , 김예진★ \n",
      "29기,  GUITAR  , 이지호★ \n",
      "    ,   BASS   , 조휘연★ \n",
      "29기,   VOCAL  , 김가영★ \n",
      "29기,  GUITAR  , 이윤재★ \n"
     ]
    }
   ],
   "source": [
    "DB = {'성은호':['27기','VOCAL'],'이누리':['27기','DRUM'],'마강락':['27기','GUITAR'],'김진광':['27기','BASS'],'윤승민':['27기','GUITAR'],\n",
    "      '임용성':['27기','GUITAR'],'하상진':['28기','GUITAR'],'안응규':['28기','DRUM'],'김현서':['28기','DRUM'],'나주원':['28기','BASS'],\n",
    "      '강승엽':['28기','VOCAL'],'이동형':['28기','BASS'],'김도은':['28기','VOCAL'],'오승환':['29기','DRUM'],'이래호':['29기','KEYBOARD'],\n",
    "      '김다정':['29기','KEYBOARD'],'김예진':['29기','GUITAR'],'이지호':['29기','GUITAR'],'조휘연':['29기','BASS'],'김가영':['29기','VOCAL']\n",
    "      ,'이윤재':['29기','GUITAR']}\n",
    "print('          결과          ')\n",
    "print('ㅡㅡㅡㅡㅡㅡㅡㅡㅡㅡㅡㅡ')\n",
    "print(' 기수     파트      이름')\n",
    "print('ㅡㅡㅡㅡㅡㅡㅡㅡㅡㅡㅡㅡ')\n",
    "for MudanNames in DB:\n",
    "    MudanParts = ''\n",
    "    MudanNum = ''\n",
    "    if '29기' in DB[MudanNames][0]:\n",
    "        MudanNames += '★'\n",
    "    if 'BASS' not in DB[MudanNames[0:3]]:\n",
    "        MudanNum += DB[MudanNames[0:3]][0]\n",
    "    elif 'BASS' in DB[MudanNames[0:3]]:\n",
    "        MudanNum += '    '\n",
    "    for Parts in DB[MudanNames[0:3]][1]:\n",
    "        if 'DRUM' in DB[MudanNames[0:3]]:\n",
    "            if Parts in ['A','E','I','O','U']:\n",
    "                Parts = Parts.lower()\n",
    "                MudanParts += Parts\n",
    "            else:\n",
    "                MudanParts += Parts\n",
    "        else:\n",
    "            MudanParts += Parts\n",
    "    print(f'{MudanNum:^3}, {MudanParts:^9}, {MudanNames:^5}')"
   ]
  },
  {
   "cell_type": "code",
   "execution_count": 3,
   "metadata": {},
   "outputs": [],
   "source": [
    "# 아주 훌룡한 DB 작성방법 (jason 형태)\n",
    "Mudan = {0:{'Name':'성은호','Part':'Vocal','No':'27기'},\n",
    "         1:{'Name':'이누리','Part':'Drum','No':'27기'}}\n",
    "\n",
    "name = ['성은호','이누리']\n",
    "part = ['Vocal','Drum']\n",
    "no = ['27기','27기']"
   ]
  },
  {
   "cell_type": "code",
   "execution_count": null,
   "metadata": {},
   "outputs": [],
   "source": []
  }
 ],
 "metadata": {
  "kernelspec": {
   "display_name": "Python 3",
   "language": "python",
   "name": "python3"
  },
  "language_info": {
   "codemirror_mode": {
    "name": "ipython",
    "version": 3
   },
   "file_extension": ".py",
   "mimetype": "text/x-python",
   "name": "python",
   "nbconvert_exporter": "python",
   "pygments_lexer": "ipython3",
   "version": "3.6.2"
  }
 },
 "nbformat": 4,
 "nbformat_minor": 2
}
